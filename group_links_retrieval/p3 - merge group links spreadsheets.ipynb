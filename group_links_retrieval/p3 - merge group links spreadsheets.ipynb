{
 "cells": [
  {
   "cell_type": "code",
   "execution_count": 5,
   "id": "5b905938-9613-4aad-bbdc-9fd3209e6011",
   "metadata": {},
   "outputs": [],
   "source": [
    "import re\n",
    "import pandas as pd\n",
    "import os\n",
    "from time import time"
   ]
  },
  {
   "cell_type": "code",
   "execution_count": 6,
   "id": "3f41207d-9ab5-4ac1-abae-c2c96dbba08c",
   "metadata": {},
   "outputs": [],
   "source": [
    "all_df = []\n",
    "\n",
    "for path, subdirs, files in os.walk(\"grp_links/\"):\n",
    "    p = path\n",
    "    files_list = files\n",
    "\n",
    "for i in files_list:    \n",
    "    df = pd.read_excel(os.path.join(p, i))\n",
    "    all_df.append(df)"
   ]
  },
  {
   "cell_type": "code",
   "execution_count": 7,
   "id": "3b4ef02e-ba26-431f-98da-cc05b11f0775",
   "metadata": {},
   "outputs": [],
   "source": [
    "df = pd.concat(all_df)"
   ]
  },
  {
   "cell_type": "code",
   "execution_count": 8,
   "id": "19cc687a-a0cf-4a25-a683-c265dbd1bc4e",
   "metadata": {},
   "outputs": [],
   "source": [
    "df.to_excel(excel_writer = \"grp_links_combined_\" + str(round(time())) + \".xlsx\", index = False)"
   ]
  },
  {
   "cell_type": "code",
   "execution_count": null,
   "id": "76cb9aff-482a-4d32-a7c7-8e99aca686bb",
   "metadata": {},
   "outputs": [],
   "source": []
  }
 ],
 "metadata": {
  "kernelspec": {
   "display_name": "Python 3 (ipykernel)",
   "language": "python",
   "name": "python3"
  },
  "language_info": {
   "codemirror_mode": {
    "name": "ipython",
    "version": 3
   },
   "file_extension": ".py",
   "mimetype": "text/x-python",
   "name": "python",
   "nbconvert_exporter": "python",
   "pygments_lexer": "ipython3",
   "version": "3.9.12"
  }
 },
 "nbformat": 4,
 "nbformat_minor": 5
}
