{
 "cells": [
  {
   "cell_type": "code",
   "execution_count": 117,
   "metadata": {},
   "outputs": [],
   "source": [
    "import os\n",
    "import re\n",
    "import json\n",
    "from time import time\n",
    "import pandas as pd\n",
    "\n",
    "import matplotlib.pyplot as plt\n",
    "\n",
    "import phonenumbers\n",
    "from phonenumbers.phonenumberutil import region_code_for_country_code\n",
    "from phonenumbers.phonenumberutil import region_code_for_number\n",
    "import pycountry"
   ]
  },
  {
   "cell_type": "code",
   "execution_count": 118,
   "metadata": {},
   "outputs": [],
   "source": [
    "for path, subdirs, files in os.walk(\"f1/WA_Africa_202112/\"):\n",
    "    p = path\n",
    "    files_list = files"
   ]
  },
  {
   "cell_type": "code",
   "execution_count": 119,
   "metadata": {},
   "outputs": [],
   "source": [
    "all_lines = []\n",
    "\n",
    "for i in files_list:\n",
    "    with open(os.path.join(p, i), mode='r', encoding='utf-8') as f:\n",
    "        lines = f.readlines()\n",
    "        all_lines += lines"
   ]
  },
  {
   "cell_type": "code",
   "execution_count": 120,
   "metadata": {},
   "outputs": [],
   "source": [
    "lines_2 = []\n",
    "for j in all_lines:\n",
    "    if \"Ashish Jain\" in j:\n",
    "        pass\n",
    "    else:\n",
    "        lines_2.append(j)"
   ]
  },
  {
   "cell_type": "code",
   "execution_count": 121,
   "metadata": {},
   "outputs": [],
   "source": [
    "lines_3 = []\n",
    "lines_wags = []\n",
    "for i in lines_2:\n",
    "    if \"https://chat.whatsapp.com/\" in i:\n",
    "        lines_wags.append(i)\n",
    "    else:\n",
    "        lines_3.append(i)"
   ]
  },
  {
   "cell_type": "code",
   "execution_count": 122,
   "metadata": {},
   "outputs": [
    {
     "name": "stdout",
     "output_type": "stream",
     "text": [
      "Wall time: 3.2 s\n"
     ]
    }
   ],
   "source": [
    "%%time\n",
    "phone_numbers = []\n",
    "lines_temp = []\n",
    "for i in lines_3:\n",
    "    \n",
    "    x = re.findall(r\"[+][0-9]{3}\\s[0-9][0-9][0-9]\\s[0-9]{6}\", i) # +123 123 123456\n",
    "    y = re.findall(r\"[+][0-9][0-9][0-9]\\s[0-9]{9}\", i) # +254 111222333\n",
    "    z = re.findall(r\"[+][0-9][0-9][0-9]\\s[0-9][0-9]\\s[0-9][0-9][0-9]\\s[0-9][0-9][0-9][0-9]\", i) # +258 12 345 6789 \n",
    "    a = re.findall(r\"[+][0-9][0-9]\\s[0-9][0-9][0-9]\\s[0-9]{7}\", i) # +92 123 1234567\n",
    "    b = re.findall(r\"[+][0-9][0-9][0-9]\\s[0-9][0-9][0-9]\\s[0-9][0-9][0-9]\\s[0-9][0-9][0-9][0-9]\", i) # +234 123 456 1234\n",
    "    c = re.findall(r\"[+][0-9][0-9]\\s[0-9][0-9][0-9][0-9]\\s[0-9][0-9][0-9][0-9][0-9][0-9]\", i) # +44 1234 123456\n",
    "    d = re.findall(r\"[0][0-9][0-9][0-9][0-9][0-9][0-9][0-9][0-9][0-9]\", i) # 0123412345\n",
    "    e = re.findall(r\"[+][0-9]{11}\", i) # +12345678901\n",
    "    f = re.findall(r\"[+][0-9][0-9][0-9]\\s[0-9][0-9][0-9][-][0-9][0-9][0-9][0-9][0-9][0-9]\", i) # +212 123-123456\n",
    "    g = re.findall(r\"[+][0-9]\\s[\\(][0-9][0-9][0-9][\\)]\\s[0-9]{3}[-][0-9]{4}\", i) # +1 (123) 123-1234\n",
    "    h = re.findall(r\"[+][0-9][0-9]\\s[0-9][0-9][0-9][0-9][0-9][0-9][0-9][0-9][0-9][0-9][0-9]\", i) # +31 12345671234\n",
    "    i2 = re.findall(r\"[+][0-9]{2}\\s[0-9]{5}\\s[0-9]{5}\", i) # +91 12345 12345\n",
    "    j = re.findall(r\"[+][0-9]{2}\\s[0-9]{3}[-][0-9]{4}[-][0-9]{5}\", i) # +62 123-1234-12345\n",
    "    k = re.findall(r\"[+][0-9][0-9]\\s[0-9][0-9][0-9]\\s[0-9][0-9][0-9]\\s[0-9][0-9]\\s[0-9][0-9]\", i) # +90 123 123 27 12\n",
    "    l = re.findall(r\"[+][0-9]{2}\\s[0-9]{4}\\s[0-9]{3}\\s[0-9]{3}\", i) # +91 1234 123 123\n",
    "    m = re.findall(r\"[+][0-9]{2}\\s[0-9]{2}\\s[0-9]{3}\\s[0-9]{4}\", i) # +27 65 123 1234\n",
    "    n = re.findall(r\"[+][0-9]{5}[-][0-9]{7}\", i) # +12345-1234567\n",
    "    o = re.findall(r\"[+][0-9]{3}\\s[0-9]{4}\\s[0-9]{4}\", i) # +968 1234 1234\n",
    "    p = re.findall(r\"[+][0-9]{12}\", i) # +123451234512\n",
    "    q = re.findall(r\"[+][0-9]{3}\\s[0-9]{8}\", i) # +229 12345678\n",
    "    r = re.findall(r\"[+][0-9]{2}\\s[0-9]{3}\\s[0-9]{3}\\s[0-9]{3}\", i) # +40 123 123 123 \n",
    "    s = re.findall(r\"[+][0-9]{2}\\s[0-9]{3}\\s[0-9]{3}\\s[0-9]{4}\", i) # +98 123 123 1234\n",
    "    t = re.findall(r\"[+][0-9]{3}\\s[0-9]{3}\\s[0-9]{3}\\s[0-9]{3}\", i) # +123 123 123 123\n",
    "    u = re.findall(r\"[+][0-9]{3}\\s([0-9]{2}\\s){3}[0-9]{2}\", i) # +228 12 34 56 78\n",
    "    v = re.findall(r\"[+][0-9]{3}\\s[0-9]{2}\\s[0-9]{6}\", i) # +232 30 123456\n",
    "    w2 = re.findall(r\"[+][0-9]{3}\\s[0-9]{3}\\s[0-9]{2}\\s[0-9]{2}\\s[0-9]{2}\", i) # +265 123 45 67 89\n",
    "    x2 = re.findall(r\"[+][0-9]{3}\\s[0-9]{2}\\s[0-9]{3}\\s[0-9]{3}\", i) # # +267 12 123 123\n",
    "    \n",
    "    w = x + y + z + a + b + c + d + e + f + g + h + i2 + j + k + l + m + n + o + p + q + r + s + t + u + v + w2 + x2\n",
    "    \n",
    "    phone_numbers += w\n",
    "    lines_temp += [i for j in range(len(w))]"
   ]
  },
  {
   "cell_type": "code",
   "execution_count": 123,
   "metadata": {},
   "outputs": [
    {
     "name": "stdout",
     "output_type": "stream",
     "text": [
      "Before: 29749\n",
      "After: 2354\n"
     ]
    }
   ],
   "source": [
    "ts = str(time())\n",
    "\n",
    "print(\"Before:\", len(phone_numbers))\n",
    "phone_numbers = sorted(set(phone_numbers))\n",
    "print(\"After:\", len(phone_numbers))\n",
    "with open(file = \"phone_numbers_\" + ts + \".txt\", mode=\"w\", encoding = \"utf-8\") as f:\n",
    "    f.write(json.dumps(phone_numbers))"
   ]
  },
  {
   "cell_type": "code",
   "execution_count": 124,
   "metadata": {},
   "outputs": [],
   "source": [
    "phone_numbers_2 = [i.replace(\"\\xa0\", \" \") for i in phone_numbers]"
   ]
  },
  {
   "cell_type": "code",
   "execution_count": 137,
   "metadata": {},
   "outputs": [],
   "source": [
    "phn_num_list = []\n",
    "cntry = []\n",
    "\n",
    "for i in phone_numbers_2:\n",
    "    try:\n",
    "        pn = phonenumbers.parse(i)\n",
    "        # print(region_code_for_country_code(pn.country_code))\n",
    "\n",
    "        country = pycountry.countries.get(alpha_2 = region_code_for_number(pn))\n",
    "        \n",
    "        phn_num_list.append(i)\n",
    "        cntry.append(country.name)\n",
    "    except:\n",
    "        pass"
   ]
  },
  {
   "cell_type": "code",
   "execution_count": 138,
   "metadata": {},
   "outputs": [],
   "source": [
    "df1 = pd.DataFrame({\n",
    "    \"phn\": phn_num_list,\n",
    "    \"cntry\": cntry\n",
    "})"
   ]
  },
  {
   "cell_type": "code",
   "execution_count": 139,
   "metadata": {},
   "outputs": [],
   "source": [
    "df2 = df1.groupby('cntry').count()"
   ]
  },
  {
   "cell_type": "code",
   "execution_count": 140,
   "metadata": {},
   "outputs": [],
   "source": [
    "def plot_pie(labels, sizes, title = \"\"):\n",
    "    colors = ['#f47961', '#f0c419', '#255c61', '#78909c', '#6ad4cf', '#17aee8', '#5c6bc0', '#444b6e', '#ef4c60', '#744593', \n",
    "              '#ee5691', '#9ccc65', '#708b75', '#d1cb65', '#0d8de1', '#a4554b', '#694f5d', '#45adb3', '#26a69a', '#bdc7cc', ]\n",
    "    colors = colors[0:len(labels)]\n",
    "    \n",
    "    explode = explode = [0.1] + [0]*1000  # explode 1st slice\n",
    "    explode = explode[0:len(labels)]\n",
    "    \n",
    "    # Plot\n",
    "    plt.figure(num=None, figsize=(9, 7), dpi=80, facecolor='w', edgecolor='k')\n",
    "    plt.pie(sizes, explode=explode, labels=labels, colors=colors, autopct='%1.1f%%', shadow=True, startangle=140)\n",
    "    plt.title(title)\n",
    "    plt.axis('equal')\n",
    "    plt.show()"
   ]
  },
  {
   "cell_type": "code",
   "execution_count": 141,
   "metadata": {},
   "outputs": [],
   "source": [
    "top_10 = sorted(df2.phn.values)[::-1][0:9]"
   ]
  },
  {
   "cell_type": "code",
   "execution_count": 142,
   "metadata": {},
   "outputs": [
    {
     "data": {
      "text/html": [
       "<div>\n",
       "<style scoped>\n",
       "    .dataframe tbody tr th:only-of-type {\n",
       "        vertical-align: middle;\n",
       "    }\n",
       "\n",
       "    .dataframe tbody tr th {\n",
       "        vertical-align: top;\n",
       "    }\n",
       "\n",
       "    .dataframe thead th {\n",
       "        text-align: right;\n",
       "    }\n",
       "</style>\n",
       "<table border=\"1\" class=\"dataframe\">\n",
       "  <thead>\n",
       "    <tr style=\"text-align: right;\">\n",
       "      <th></th>\n",
       "      <th>phn</th>\n",
       "    </tr>\n",
       "    <tr>\n",
       "      <th>cntry</th>\n",
       "      <th></th>\n",
       "    </tr>\n",
       "  </thead>\n",
       "  <tbody>\n",
       "    <tr>\n",
       "      <th>Afghanistan</th>\n",
       "      <td>1</td>\n",
       "    </tr>\n",
       "    <tr>\n",
       "      <th>Algeria</th>\n",
       "      <td>1</td>\n",
       "    </tr>\n",
       "    <tr>\n",
       "      <th>Australia</th>\n",
       "      <td>1</td>\n",
       "    </tr>\n",
       "    <tr>\n",
       "      <th>Bolivia, Plurinational State of</th>\n",
       "      <td>1</td>\n",
       "    </tr>\n",
       "    <tr>\n",
       "      <th>Botswana</th>\n",
       "      <td>3</td>\n",
       "    </tr>\n",
       "  </tbody>\n",
       "</table>\n",
       "</div>"
      ],
      "text/plain": [
       "                                 phn\n",
       "cntry                               \n",
       "Afghanistan                        1\n",
       "Algeria                            1\n",
       "Australia                          1\n",
       "Bolivia, Plurinational State of    1\n",
       "Botswana                           3"
      ]
     },
     "execution_count": 142,
     "metadata": {},
     "output_type": "execute_result"
    }
   ],
   "source": [
    "df2.head()"
   ]
  },
  {
   "cell_type": "code",
   "execution_count": 143,
   "metadata": {},
   "outputs": [
    {
     "data": {
      "text/html": [
       "<div>\n",
       "<style scoped>\n",
       "    .dataframe tbody tr th:only-of-type {\n",
       "        vertical-align: middle;\n",
       "    }\n",
       "\n",
       "    .dataframe tbody tr th {\n",
       "        vertical-align: top;\n",
       "    }\n",
       "\n",
       "    .dataframe thead th {\n",
       "        text-align: right;\n",
       "    }\n",
       "</style>\n",
       "<table border=\"1\" class=\"dataframe\">\n",
       "  <thead>\n",
       "    <tr style=\"text-align: right;\">\n",
       "      <th></th>\n",
       "      <th>cntry</th>\n",
       "      <th>phn</th>\n",
       "    </tr>\n",
       "  </thead>\n",
       "  <tbody>\n",
       "    <tr>\n",
       "      <th>0</th>\n",
       "      <td>Afghanistan</td>\n",
       "      <td>1</td>\n",
       "    </tr>\n",
       "    <tr>\n",
       "      <th>1</th>\n",
       "      <td>Algeria</td>\n",
       "      <td>1</td>\n",
       "    </tr>\n",
       "    <tr>\n",
       "      <th>2</th>\n",
       "      <td>Australia</td>\n",
       "      <td>1</td>\n",
       "    </tr>\n",
       "    <tr>\n",
       "      <th>3</th>\n",
       "      <td>Bolivia, Plurinational State of</td>\n",
       "      <td>1</td>\n",
       "    </tr>\n",
       "    <tr>\n",
       "      <th>4</th>\n",
       "      <td>Botswana</td>\n",
       "      <td>3</td>\n",
       "    </tr>\n",
       "  </tbody>\n",
       "</table>\n",
       "</div>"
      ],
      "text/plain": [
       "                             cntry  phn\n",
       "0                      Afghanistan    1\n",
       "1                          Algeria    1\n",
       "2                        Australia    1\n",
       "3  Bolivia, Plurinational State of    1\n",
       "4                         Botswana    3"
      ]
     },
     "execution_count": 143,
     "metadata": {},
     "output_type": "execute_result"
    }
   ],
   "source": [
    "df2 = df2.reset_index()\n",
    "df2.head()"
   ]
  },
  {
   "cell_type": "code",
   "execution_count": 144,
   "metadata": {},
   "outputs": [],
   "source": [
    "def get_cntry_label(in_row):\n",
    "    if(in_row['phn'] in top_10):\n",
    "        return in_row['cntry']\n",
    "    else:\n",
    "        return 'Others'"
   ]
  },
  {
   "cell_type": "code",
   "execution_count": 145,
   "metadata": {},
   "outputs": [],
   "source": [
    "df2['cntry_lbl'] = df2.apply(get_cntry_label, axis = 1)"
   ]
  },
  {
   "cell_type": "code",
   "execution_count": 146,
   "metadata": {},
   "outputs": [],
   "source": [
    "df3 = df2[['cntry_lbl', 'phn']].groupby('cntry_lbl').sum('phn')"
   ]
  },
  {
   "cell_type": "code",
   "execution_count": 147,
   "metadata": {},
   "outputs": [
    {
     "data": {
      "text/html": [
       "<div>\n",
       "<style scoped>\n",
       "    .dataframe tbody tr th:only-of-type {\n",
       "        vertical-align: middle;\n",
       "    }\n",
       "\n",
       "    .dataframe tbody tr th {\n",
       "        vertical-align: top;\n",
       "    }\n",
       "\n",
       "    .dataframe thead th {\n",
       "        text-align: right;\n",
       "    }\n",
       "</style>\n",
       "<table border=\"1\" class=\"dataframe\">\n",
       "  <thead>\n",
       "    <tr style=\"text-align: right;\">\n",
       "      <th></th>\n",
       "      <th>phn</th>\n",
       "    </tr>\n",
       "    <tr>\n",
       "      <th>cntry_lbl</th>\n",
       "      <th></th>\n",
       "    </tr>\n",
       "  </thead>\n",
       "  <tbody>\n",
       "    <tr>\n",
       "      <th>Ghana</th>\n",
       "      <td>26</td>\n",
       "    </tr>\n",
       "    <tr>\n",
       "      <th>India</th>\n",
       "      <td>22</td>\n",
       "    </tr>\n",
       "    <tr>\n",
       "      <th>Kenya</th>\n",
       "      <td>777</td>\n",
       "    </tr>\n",
       "    <tr>\n",
       "      <th>Nigeria</th>\n",
       "      <td>58</td>\n",
       "    </tr>\n",
       "    <tr>\n",
       "      <th>Others</th>\n",
       "      <td>96</td>\n",
       "    </tr>\n",
       "    <tr>\n",
       "      <th>Pakistan</th>\n",
       "      <td>157</td>\n",
       "    </tr>\n",
       "    <tr>\n",
       "      <th>Tanzania, United Republic of</th>\n",
       "      <td>160</td>\n",
       "    </tr>\n",
       "    <tr>\n",
       "      <th>Uganda</th>\n",
       "      <td>834</td>\n",
       "    </tr>\n",
       "    <tr>\n",
       "      <th>United Arab Emirates</th>\n",
       "      <td>24</td>\n",
       "    </tr>\n",
       "    <tr>\n",
       "      <th>United States</th>\n",
       "      <td>35</td>\n",
       "    </tr>\n",
       "    <tr>\n",
       "      <th>Zambia</th>\n",
       "      <td>22</td>\n",
       "    </tr>\n",
       "  </tbody>\n",
       "</table>\n",
       "</div>"
      ],
      "text/plain": [
       "                              phn\n",
       "cntry_lbl                        \n",
       "Ghana                          26\n",
       "India                          22\n",
       "Kenya                         777\n",
       "Nigeria                        58\n",
       "Others                         96\n",
       "Pakistan                      157\n",
       "Tanzania, United Republic of  160\n",
       "Uganda                        834\n",
       "United Arab Emirates           24\n",
       "United States                  35\n",
       "Zambia                         22"
      ]
     },
     "execution_count": 147,
     "metadata": {},
     "output_type": "execute_result"
    }
   ],
   "source": [
    "df3"
   ]
  },
  {
   "cell_type": "code",
   "execution_count": 148,
   "metadata": {},
   "outputs": [
    {
     "data": {
      "image/png": "[encoded data removed]",
      "text/plain": [
       "<Figure size 720x560 with 1 Axes>"
      ]
     },
     "metadata": {},
     "output_type": "display_data"
    }
   ],
   "source": [
    "plot_pie(df3.index, df3.phn.values, 'Countries')"
   ]
  },
  {
   "cell_type": "code",
   "execution_count": null,
   "metadata": {},
   "outputs": [],
   "source": []
  },
  {
   "cell_type": "code",
   "execution_count": null,
   "metadata": {},
   "outputs": [],
   "source": []
  },
  {
   "cell_type": "code",
   "execution_count": null,
   "metadata": {},
   "outputs": [],
   "source": []
  },
  {
   "cell_type": "code",
   "execution_count": null,
   "metadata": {},
   "outputs": [],
   "source": []
  },
  {
   "cell_type": "code",
   "execution_count": null,
   "metadata": {},
   "outputs": [],
   "source": []
  },
  {
   "cell_type": "code",
   "execution_count": null,
   "metadata": {},
   "outputs": [],
   "source": []
  },
  {
   "cell_type": "code",
   "execution_count": null,
   "metadata": {},
   "outputs": [],
   "source": []
  },
  {
   "cell_type": "code",
   "execution_count": null,
   "metadata": {},
   "outputs": [],
   "source": []
  },
  {
   "cell_type": "code",
   "execution_count": null,
   "metadata": {},
   "outputs": [],
   "source": []
  },
  {
   "cell_type": "code",
   "execution_count": null,
   "metadata": {},
   "outputs": [],
   "source": []
  },
  {
   "cell_type": "code",
   "execution_count": null,
   "metadata": {},
   "outputs": [],
   "source": []
  },
  {
   "cell_type": "code",
   "execution_count": null,
   "metadata": {},
   "outputs": [],
   "source": []
  }
 ],
 "metadata": {
  "kernelspec": {
   "display_name": "Python 3",
   "language": "python",
   "name": "python3"
  },
  "language_info": {
   "codemirror_mode": {
    "name": "ipython",
    "version": 3
   },
   "file_extension": ".py",
   "mimetype": "text/x-python",
   "name": "python",
   "nbconvert_exporter": "python",
   "pygments_lexer": "ipython3",
   "version": "3.7.1"
  }
 },
 "nbformat": 4,
 "nbformat_minor": 4
}
