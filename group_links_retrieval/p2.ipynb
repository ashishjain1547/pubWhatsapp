{
 "cells": [
  {
   "cell_type": "code",
   "execution_count": 1,
   "metadata": {},
   "outputs": [],
   "source": [
    "import re\n",
    "import pandas as pd\n",
    "import os\n",
    "from time import time"
   ]
  },
  {
   "cell_type": "code",
   "execution_count": 2,
   "metadata": {},
   "outputs": [],
   "source": [
    "all_lines = []\n",
    "\n",
    "for path, subdirs, files in os.walk(\"wags/\"):\n",
    "    p = path\n",
    "    files_list = files\n",
    "    \n",
    "for i in files_list:\n",
    "    with open(os.path.join(p, i), mode='r', encoding='utf-8') as f:\n",
    "        lines = f.readlines()\n",
    "        all_lines += lines"
   ]
  },
  {
   "cell_type": "code",
   "execution_count": 3,
   "metadata": {},
   "outputs": [],
   "source": [
    "grp_links = []\n",
    "for i in lines:\n",
    "    m = re.findall(r\"https://chat.whatsapp.com/[a-z0-9A-Z]+\", i)\n",
    "    grp_links += m"
   ]
  },
  {
   "cell_type": "code",
   "execution_count": 4,
   "metadata": {},
   "outputs": [
    {
     "name": "stdout",
     "output_type": "stream",
     "text": [
      "324\n",
      "183\n"
     ]
    }
   ],
   "source": [
    "print(len(grp_links))\n",
    "grp_links = sorted(list(set(grp_links)))\n",
    "grp_links = [i for i in grp_links if len(i) > 30]\n",
    "print(len(grp_links))"
   ]
  },
  {
   "cell_type": "code",
   "execution_count": 5,
   "metadata": {},
   "outputs": [],
   "source": [
    "df = pd.DataFrame({'grp_links': grp_links}) "
   ]
  },
  {
   "cell_type": "code",
   "execution_count": 6,
   "metadata": {},
   "outputs": [],
   "source": [
    "df.to_excel(excel_writer = \"grp_links_\" + str(round(time())) + \".xlsx\", index = False)"
   ]
  },
  {
   "cell_type": "code",
   "execution_count": null,
   "metadata": {},
   "outputs": [],
   "source": []
  },
  {
   "cell_type": "code",
   "execution_count": null,
   "metadata": {},
   "outputs": [],
   "source": []
  }
 ],
 "metadata": {
  "kernelspec": {
   "display_name": "Python 3 (ipykernel)",
   "language": "python",
   "name": "python3"
  },
  "language_info": {
   "codemirror_mode": {
    "name": "ipython",
    "version": 3
   },
   "file_extension": ".py",
   "mimetype": "text/x-python",
   "name": "python",
   "nbconvert_exporter": "python",
   "pygments_lexer": "ipython3",
   "version": "3.9.12"
  }
 },
 "nbformat": 4,
 "nbformat_minor": 4
}
