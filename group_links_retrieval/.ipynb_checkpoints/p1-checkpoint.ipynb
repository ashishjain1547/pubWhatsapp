{
 "cells": [
  {
   "cell_type": "code",
   "execution_count": 1,
   "metadata": {},
   "outputs": [],
   "source": [
    "import os\n",
    "import re\n",
    "import json\n",
    "from time import time"
   ]
  },
  {
   "cell_type": "code",
   "execution_count": 2,
   "metadata": {},
   "outputs": [],
   "source": [
    "for path, subdirs, files in os.walk(\"chats/\"):\n",
    "    p = path\n",
    "    files_list = files"
   ]
  },
  {
   "cell_type": "raw",
   "metadata": {},
   "source": [
    "all_lines = []\n",
    "\n",
    "for i in files_list:\n",
    "    with open(os.path.join(p, i), mode='r', encoding='utf-8') as f:\n",
    "        lines = f.readlines()\n",
    "        print(len(lines))\n",
    "        for j in lines:\n",
    "            if \"Ashish Jain\" in j:\n",
    "                print(j)\n",
    "            else:\n",
    "                all_lines.append(j)\n",
    "print(len(all_lines))"
   ]
  },
  {
   "cell_type": "code",
   "execution_count": 3,
   "metadata": {},
   "outputs": [],
   "source": [
    "all_lines = []\n",
    "\n",
    "for i in files_list:\n",
    "    with open(os.path.join(p, i), mode='r', encoding='utf-8') as f:\n",
    "        lines = f.readlines()\n",
    "        all_lines += lines"
   ]
  },
  {
   "cell_type": "code",
   "execution_count": 4,
   "metadata": {},
   "outputs": [
    {
     "name": "stdout",
     "output_type": "stream",
     "text": [
      "865\n"
     ]
    }
   ],
   "source": [
    "print(len(all_lines))"
   ]
  },
  {
   "cell_type": "code",
   "execution_count": 5,
   "metadata": {},
   "outputs": [
    {
     "name": "stdout",
     "output_type": "stream",
     "text": [
      "857\n"
     ]
    }
   ],
   "source": [
    "lines_2 = []\n",
    "for j in all_lines:\n",
    "    if \"Ashish Jain\" in j:\n",
    "        #print(j)\n",
    "        pass\n",
    "    else:\n",
    "        lines_2.append(j)\n",
    "print(len(lines_2))"
   ]
  },
  {
   "cell_type": "code",
   "execution_count": 6,
   "metadata": {},
   "outputs": [
    {
     "name": "stdout",
     "output_type": "stream",
     "text": [
      "856\n"
     ]
    }
   ],
   "source": [
    "lines_3 = []\n",
    "lines_wags = []\n",
    "for i in lines_2:\n",
    "    if \"https://chat.whatsapp.com/\" in i:\n",
    "        lines_wags.append(i)\n",
    "    else:\n",
    "        lines_3.append(i)\n",
    "print(len(lines_3))"
   ]
  },
  {
   "cell_type": "code",
   "execution_count": 7,
   "metadata": {},
   "outputs": [],
   "source": [
    "ts = str(time())\n",
    "for i in lines_wags:\n",
    "    with open(file = \"wags_\" + ts + \".txt\", mode = 'a', encoding=\"utf-8\") as f:\n",
    "        f.write(i)"
   ]
  },
  {
   "cell_type": "code",
   "execution_count": 8,
   "metadata": {},
   "outputs": [
    {
     "name": "stdout",
     "output_type": "stream",
     "text": [
      "['+91 6282 123 123']\n",
      "['+40 123 123 123']\n",
      "['+1 (123) 123-1234']\n"
     ]
    }
   ],
   "source": [
    "x = re.findall(r\"[+][0-9]{2}\\s[0-9]{4}\\s[0-9]{3}\\s[0-9]{3}\", \"# +91 6282 123 123\") \n",
    "print(x)\n",
    "\n",
    "x = re.findall(r\"[+][0-9]{2}\\s[0-9]{3}\\s[0-9]{3}\\s[0-9]{3}\", \"# +40 123 123 123\") \n",
    "print(x)\n",
    "\n",
    "x = re.findall(r\"[+][0-9]{1}\\s[\\(][0-9]{3}[\\)]\\s[0-9]{3}[-][0-9]{4}\", \"# +1 (123) 123-1234\") \n",
    "print(x)\n"
   ]
  },
  {
   "cell_type": "code",
   "execution_count": 9,
   "metadata": {},
   "outputs": [
    {
     "name": "stdout",
     "output_type": "stream",
     "text": [
      "CPU times: user 47.7 ms, sys: 0 ns, total: 47.7 ms\n",
      "Wall time: 47.5 ms\n"
     ]
    }
   ],
   "source": [
    "%%time\n",
    "phone_numbers = []\n",
    "lines_temp = []\n",
    "for i in lines_3:\n",
    "    \n",
    "    #x = re.findall(r\"[+][0-9 ]+\", i)\n",
    "    #+254 123 123456 9/13/20, 1:36 AM - +254 123 123456: Poa\n",
    "    #+254 9/13/20, 12:13 PM - +254 123 123456 changed to +254 123 123456\n",
    "    \n",
    "    x = re.findall(r\"[+][0-9]{3}\\s[0-9][0-9][0-9]\\s[0-9]{6}\", i) # +123 123 123456\n",
    "    y = re.findall(r\"[+][0-9][0-9][0-9]\\s[0-9]{9}\", i) # +254 111222333\n",
    "    z = re.findall(r\"[+][0-9][0-9][0-9]\\s[0-9][0-9]\\s[0-9][0-9][0-9]\\s[0-9][0-9][0-9][0-9]\", i) # +258 12 345 6789 \n",
    "    a = re.findall(r\"[+][0-9][0-9]\\s[0-9][0-9][0-9]\\s[0-9]{7}\", i) # +92 123 1234567\n",
    "    b = re.findall(r\"[+][0-9][0-9][0-9]\\s[0-9][0-9][0-9]\\s[0-9][0-9][0-9]\\s[0-9][0-9][0-9][0-9]\", i) # +234 123 456 1234\n",
    "    c = re.findall(r\"[+][0-9][0-9]\\s[0-9][0-9][0-9][0-9]\\s[0-9][0-9][0-9][0-9][0-9][0-9]\", i) # +44 1234 123456\n",
    "    d = re.findall(r\"[0][0-9][0-9][0-9][0-9][0-9][0-9][0-9][0-9][0-9]\", i) # 0123412345\n",
    "    e = re.findall(r\"[+][0-9]{11}\", i) # +12345678901\n",
    "    f = re.findall(r\"[+][0-9][0-9][0-9]\\s[0-9][0-9][0-9][-][0-9][0-9][0-9][0-9][0-9][0-9]\", i) # +212 123-123456\n",
    "    g = re.findall(r\"[+][0-9]\\s[\\(][0-9][0-9][0-9][\\)]\\s[0-9]{3}[-][0-9]{4}\", i) # +1 (123) 123-1234\n",
    "    h = re.findall(r\"[+][0-9][0-9]\\s[0-9][0-9][0-9][0-9][0-9][0-9][0-9][0-9][0-9][0-9][0-9]\", i) # +31 12345671234\n",
    "    i2 = re.findall(r\"[+][0-9]{2}\\s[0-9]{5}\\s[0-9]{5}\", i) # +91 12345 12345\n",
    "    j = re.findall(r\"[+][0-9]{2}\\s[0-9]{3}[-][0-9]{4}[-][0-9]{5}\", i) # +62 123-1234-12345\n",
    "    k = re.findall(r\"[+][0-9][0-9]\\s[0-9][0-9][0-9]\\s[0-9][0-9][0-9]\\s[0-9][0-9]\\s[0-9][0-9]\", i) # +90 123 123 27 12\n",
    "    l = re.findall(r\"[+][0-9]{2}\\s[0-9]{4}\\s[0-9]{3}\\s[0-9]{3}\", i) # +91 1234 123 123\n",
    "    m = re.findall(r\"[+][0-9]{2}\\s[0-9]{2}\\s[0-9]{3}\\s[0-9]{4}\", i) # +27 65 123 1234\n",
    "    n = re.findall(r\"[+][0-9]{5}[-][0-9]{7}\", i) # +12345-1234567\n",
    "    o = re.findall(r\"[+][0-9]{3}\\s[0-9]{4}\\s[0-9]{4}\", i) # +968 1234 1234\n",
    "    p = re.findall(r\"[+][0-9]{12}\", i) # +123451234512\n",
    "    q = re.findall(r\"[+][0-9]{3}\\s[0-9]{8}\", i) # +229 12345678\n",
    "    r = re.findall(r\"[+][0-9]{2}\\s[0-9]{3}\\s[0-9]{3}\\s[0-9]{3}\", i) # +40 123 123 123 \n",
    "    s = re.findall(r\"[+][0-9]{2}\\s[0-9]{3}\\s[0-9]{3}\\s[0-9]{4}\", i) # +98 123 123 1234\n",
    "    t = re.findall(r\"[+][0-9]{3}\\s[0-9]{3}\\s[0-9]{3}\\s[0-9]{3}\", i) # +123 123 123 123\n",
    "    u = re.findall(r\"[+][0-9]{3}\\s([0-9]{2}\\s){3}[0-9]{2}\", i) # +228 12 34 56 78\n",
    "    v = re.findall(r\"[+][0-9]{3}\\s[0-9]{2}\\s[0-9]{6}\", i) # +232 30 123456\n",
    "    w2 = re.findall(r\"[+][0-9]{3}\\s[0-9]{3}\\s[0-9]{2}\\s[0-9]{2}\\s[0-9]{2}\", i) # +265 123 45 67 89\n",
    "    x2 = re.findall(r\"[+][0-9]{3}\\s[0-9]{2}\\s[0-9]{3}\\s[0-9]{3}\", i) # # +267 12 123 123\n",
    "    \n",
    "    w = x + y + z + a + b + c + d + e + f + g + h + i2 + j + k + l + m + n + o + p + q + r + s + t + u + v + w2 + x2\n",
    "    \n",
    "    phone_numbers += w\n",
    "    lines_temp += [i for j in range(len(w))]"
   ]
  },
  {
   "cell_type": "raw",
   "metadata": {},
   "source": [
    "for i in zip(phone_numbers, lines_temp):\n",
    "    print(i[0], i[1])"
   ]
  },
  {
   "cell_type": "code",
   "execution_count": 10,
   "metadata": {},
   "outputs": [
    {
     "name": "stdout",
     "output_type": "stream",
     "text": [
      "Before: 237\n",
      "After: 65\n"
     ]
    }
   ],
   "source": [
    "print(\"Before:\", len(phone_numbers))\n",
    "phone_numbers = sorted(set(phone_numbers))\n",
    "print(\"After:\", len(phone_numbers))\n",
    "with open(file = \"phone_numbers.txt\", mode=\"w\", encoding = \"utf-8\") as f:\n",
    "    f.write(json.dumps(phone_numbers))"
   ]
  },
  {
   "cell_type": "code",
   "execution_count": 11,
   "metadata": {},
   "outputs": [
    {
     "name": "stdout",
     "output_type": "stream",
     "text": [
      "CPU times: user 41.7 ms, sys: 0 ns, total: 41.7 ms\n",
      "Wall time: 41.5 ms\n"
     ]
    }
   ],
   "source": [
    "%%time\n",
    "lines_4 = []\n",
    "for i in lines_3:\n",
    "    x = re.findall(r\"[+][0-9]{3}\\s[0-9][0-9][0-9]\\s[0-9]{6}\", i) # +123 123 123456\n",
    "    y = re.findall(r\"[+][0-9][0-9][0-9]\\s[0-9]{9}\", i) # +254 111222333\n",
    "    z = re.findall(r\"[+][0-9][0-9][0-9]\\s[0-9][0-9]\\s[0-9][0-9][0-9]\\s[0-9][0-9][0-9][0-9]\", i) # +258 12 345 6789 \n",
    "    a = re.findall(r\"[+][0-9][0-9]\\s[0-9][0-9][0-9]\\s[0-9]{7}\", i) # +92 123 1234567\n",
    "    b = re.findall(r\"[+][0-9][0-9][0-9]\\s[0-9][0-9][0-9]\\s[0-9][0-9][0-9]\\s[0-9][0-9][0-9][0-9]\", i) # +234 123 456 1234\n",
    "    c = re.findall(r\"[+][0-9][0-9]\\s[0-9][0-9][0-9][0-9]\\s[0-9][0-9][0-9][0-9][0-9][0-9]\", i) # +44 1234 123456\n",
    "    d = re.findall(r\"[0][0-9][0-9][0-9][0-9][0-9][0-9][0-9][0-9][0-9]\", i) # 0123412345\n",
    "    e = re.findall(r\"[+][0-9]{11}\", i) # +12345678901\n",
    "    f = re.findall(r\"[+][0-9][0-9][0-9]\\s[0-9][0-9][0-9][-][0-9][0-9][0-9][0-9][0-9][0-9]\", i) # +212 123-123456\n",
    "    g = re.findall(r\"[+][0-9]\\s[\\(][0-9][0-9][0-9][\\)]\\s[0-9]{3}[-][0-9]{4}\", i) # +1 (123) 123-1234\n",
    "    h = re.findall(r\"[+][0-9][0-9]\\s[0-9][0-9][0-9][0-9][0-9][0-9][0-9][0-9][0-9][0-9][0-9]\", i) # +31 12345671234\n",
    "    i2 = re.findall(r\"[+][0-9]{2}\\s[0-9]{5}\\s[0-9]{5}\", i) # +91 12345 12345\n",
    "    j = re.findall(r\"[+][0-9]{2}\\s[0-9]{3}[-][0-9]{4}[-][0-9]{5}\", i) # +62 123-1234-12345\n",
    "    k = re.findall(r\"[+][0-9][0-9]\\s[0-9][0-9][0-9]\\s[0-9][0-9][0-9]\\s[0-9][0-9]\\s[0-9][0-9]\", i) # +90 123 123 27 12\n",
    "    l = re.findall(r\"[+][0-9]{2}\\s[0-9]{4}\\s[0-9]{3}\\s[0-9]{3}\", i) # +91 1234 123 123\n",
    "    m = re.findall(r\"[+][0-9]{2}\\s[0-9]{2}\\s[0-9]{3}\\s[0-9]{4}\", i) # +27 65 123 1234\n",
    "    n = re.findall(r\"[+][0-9]{5}[-][0-9]{7}\", i) # +12345-1234567\n",
    "    o = re.findall(r\"[+][0-9]{3}\\s[0-9]{4}\\s[0-9]{4}\", i) # +968 1234 1234\n",
    "    p = re.findall(r\"[+][0-9]{12}\", i) # +123451234512\n",
    "    q = re.findall(r\"[+][0-9]{3}\\s[0-9]{8}\", i) # +229 12345678\n",
    "    r = re.findall(r\"[+][0-9]{2}\\s[0-9]{3}\\s[0-9]{3}\\s[0-9]{3}\", i) # +40 123 123 123 \n",
    "    s = re.findall(r\"[+][0-9]{2}\\s[0-9]{3}\\s[0-9]{3}\\s[0-9]{4}\", i) # +98 123 123 1234\n",
    "    t = re.findall(r\"[+][0-9]{3}\\s[0-9]{3}\\s[0-9]{3}\\s[0-9]{3}\", i) # +123 123 123 123\n",
    "    u = re.findall(r\"[+][0-9]{3}\\s([0-9]{2}\\s){3}[0-9]{2}\", i) # +228 12 34 56 78\n",
    "    v = re.findall(r\"[+][0-9]{3}\\s[0-9]{2}\\s[0-9]{6}\", i) # +232 30 123456\n",
    "    w2 = re.findall(r\"[+][0-9]{3}\\s[0-9]{3}\\s[0-9]{2}\\s[0-9]{2}\\s[0-9]{2}\", i) # +265 123 45 67 89\n",
    "    x2 = re.findall(r\"[+][0-9]{3}\\s[0-9]{2}\\s[0-9]{3}\\s[0-9]{3}\", i) # # +267 12 123 123\n",
    "    \n",
    "    w = x + y + z + a + b + c + d + e + f + g + h + i2 + j + k + l + m + n + o + p + q + r + s + t + u + v + w2 + x2\n",
    "    \n",
    "    for j in w:\n",
    "        i = i.replace(j, \"user#\" + str(phone_numbers.index(j)))\n",
    "    lines_4.append(i)"
   ]
  },
  {
   "cell_type": "code",
   "execution_count": 12,
   "metadata": {},
   "outputs": [
    {
     "data": {
      "text/plain": [
       "856"
      ]
     },
     "execution_count": 12,
     "metadata": {},
     "output_type": "execute_result"
    }
   ],
   "source": [
    "len(lines_4)"
   ]
  },
  {
   "cell_type": "code",
   "execution_count": 13,
   "metadata": {},
   "outputs": [
    {
     "data": {
      "text/plain": [
       "['14/08/2022, 17:57 - Messages and calls are end-to-end encrypted. No one outside of this chat, not even WhatsApp, can read or listen to them. Tap to learn more.\\n',\n",
       " '23/08/2021, 14:30 - Group creator created group \"UGANDANS BUY AND SELL\"\\n',\n",
       " \"14/08/2022, 17:57 - You joined using this group's invite link\\n\",\n",
       " \"14/08/2022, 17:57 - Disappearing messages were turned on. All new messages will disappear from this chat 7 days after they're sent.\\n\",\n",
       " '21/08/2022, 11:36 - user#29 left\\n',\n",
       " '23/08/2022, 21:16 - user#21 left\\n',\n",
       " '12/09/2022, 09:11 - user#0, user#7, user#12, user#34 and user#37 left\\n',\n",
       " '18/09/2022, 14:49 - user#5 added user#32\\n',\n",
       " '18/09/2022, 14:49 - user#16 and user#18 left\\n',\n",
       " '23/09/2022, 19:12 - user#25 and +880 1634-874103 left\\n']"
      ]
     },
     "execution_count": 13,
     "metadata": {},
     "output_type": "execute_result"
    }
   ],
   "source": [
    "lines_4[0:10]"
   ]
  },
  {
   "cell_type": "code",
   "execution_count": 14,
   "metadata": {},
   "outputs": [
    {
     "name": "stdout",
     "output_type": "stream",
     "text": [
      "CPU times: user 28.3 ms, sys: 7.53 ms, total: 35.8 ms\n",
      "Wall time: 35.3 ms\n"
     ]
    }
   ],
   "source": [
    "%%time\n",
    "file = \"wac_dump_\" + str(time()) + \".txt\"\n",
    "for i in lines_4:\n",
    "    with open(file = file, mode = 'a', encoding=\"utf-8\") as f:\n",
    "        f.write(i)"
   ]
  },
  {
   "cell_type": "code",
   "execution_count": null,
   "metadata": {},
   "outputs": [],
   "source": []
  }
 ],
 "metadata": {
  "kernelspec": {
   "display_name": "Python 3 (ipykernel)",
   "language": "python",
   "name": "python3"
  },
  "language_info": {
   "codemirror_mode": {
    "name": "ipython",
    "version": 3
   },
   "file_extension": ".py",
   "mimetype": "text/x-python",
   "name": "python",
   "nbconvert_exporter": "python",
   "pygments_lexer": "ipython3",
   "version": "3.9.12"
  }
 },
 "nbformat": 4,
 "nbformat_minor": 4
}
